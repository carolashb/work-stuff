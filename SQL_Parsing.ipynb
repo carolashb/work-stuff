{
 "cells": [
  {
   "cell_type": "code",
   "execution_count": 719,
   "id": "b3f610fe-cbcf-4af2-a267-7564a5c3ed9e",
   "metadata": {},
   "outputs": [],
   "source": [
    "import regex as re\n",
    "import pandas as pd\n",
    "import itertools\n",
    "from collections import defaultdict"
   ]
  },
  {
   "cell_type": "code",
   "execution_count": 1,
   "id": "ec488649-68c4-4802-bdc5-c035382a033d",
   "metadata": {},
   "outputs": [],
   "source": [
    "def tables_in_query(sql_str):\n",
    "\n",
    "    # remove the /* */ comments\n",
    "    q = re.sub(r\"/\\*[^*]*\\*+(?:[^*/][^*]*\\*+)*/\", \"\", sql_str)\n",
    "\n",
    "    # remove whole line -- and # comments\n",
    "    lines = [line for line in q.splitlines() if not re.match(\"^\\s*(--|#)\", line)]\n",
    "\n",
    "    # remove trailing -- and # comments\n",
    "    q = \" \".join([re.split(\"--|#\", line)[0] for line in lines])\n",
    "\n",
    "    # split on blanks, parens, semicolons, and commas\n",
    "    tokens = re.split(r\"[\\s)(;,]+\", q)\n",
    "\n",
    "    # scan the tokens. if we see a FROM or JOIN, we set the get_next\n",
    "    # flag, and grab the next one (unless it's SELECT).\n",
    "\n",
    "    result = set()\n",
    "    get_next = False\n",
    "    for tok in tokens:\n",
    "        if get_next:\n",
    "            if tok.lower() not in [\"\", \"select\"]:\n",
    "                result.add(tok)\n",
    "            get_next = False\n",
    "        get_next = tok.lower() in [\"from\", \"join\"]\n",
    "\n",
    "    return result"
   ]
  },
  {
   "cell_type": "code",
   "execution_count": 4,
   "id": "9cb3bcc6-19db-4256-af5d-d9d8ea499e3c",
   "metadata": {},
   "outputs": [],
   "source": [
    "sample_query = \"\"\"SELECT\n",
    "                c.calendar_date,\n",
    "                c.calendar_year,\n",
    "                c.calendar_month,\n",
    "                c.calendar_dayname,\n",
    "                COUNT(DISTINCT co.order_id) AS num_orders,\n",
    "                COUNT(ol.book_id) AS num_books,\n",
    "                SUM(ol.price) AS total_price,\n",
    "                SUM(COUNT(ol.book_id)) OVER (\n",
    "                  PARTITION BY c.calendar_year, c.calendar_month\n",
    "                  ORDER BY c.calendar_date\n",
    "                ) AS running_total_num_books,\n",
    "                LAG(COUNT(ol.book_id), 7) OVER (ORDER BY c.calendar_date) AS prev_books\n",
    "                FROM calendar_days c\n",
    "                LEFT JOIN cust_order co ON c.calendar_date = DATE(co.order_date)\n",
    "                LEFT JOIN order_line ol ON co.order_id = ol.order_id\n",
    "                GROUP BY c.calendar_date, c.calendar_year, c.calendar_month, c.calendar_dayname\n",
    "                ORDER BY c.calendar_date ASC;\"\"\""
   ]
  },
  {
   "cell_type": "code",
   "execution_count": 9,
   "id": "6b77f039-743b-409c-b838-ff359e62a757",
   "metadata": {},
   "outputs": [],
   "source": [
    "table_names = tables_in_query(sample_query)"
   ]
  },
  {
   "cell_type": "code",
   "execution_count": 724,
   "id": "53969409-cb12-4e8f-a38c-f8d98e5c8fb1",
   "metadata": {},
   "outputs": [],
   "source": [
    "def GetAliases(sample_query):\n",
    "    q = re.sub(r\"/\\*[^*]*\\*+(?:[^*/][^*]*\\*+)*/\", \"\", sample_query)\n",
    "\n",
    "    # remove whole line -- and # comments\n",
    "    lines = [line for line in q.splitlines() if not re.match(\"^\\s*(--|#)\", line)]\n",
    "\n",
    "    # remove trailing -- and # comments\n",
    "    q = \" \".join([re.split(\"--|#\", line)[0] for line in lines])\n",
    "\n",
    "    # split on blanks, parens, semicolons, and commas\n",
    "    tokens = re.split(r\"[\\s)(;,]+\", q)\n",
    "\n",
    "    it = iter(tokens)\n",
    "    tokens[:] =  [f\"{i}:{next(it)}\" if i in table_names else i for i in it]\n",
    "\n",
    "    aliases = []\n",
    "    temp = r'(%s.*)' % ':.*|'.join(table_names)\n",
    "    for i in tokens:\n",
    "        match = re.findall(temp,i)\n",
    "        if len(match) >0 :\n",
    "            aliases.append(re.sub(r\"[\\['\\]]\", \"\", f'{match}'))\n",
    "    aliases\n",
    "\n",
    "    aliases_dict = {}\n",
    "    for aliase in aliases:\n",
    "        aliases_dict[aliase.split(\":\")[0]] = aliase.split(\":\")[1]\n",
    "        \n",
    "    return aliases_dict"
   ]
  },
  {
   "cell_type": "code",
   "execution_count": 428,
   "id": "6ee5c909-2355-4b55-93ba-8df5ea6b62c3",
   "metadata": {},
   "outputs": [
    {
     "data": {
      "text/plain": [
       "{'calendar_days': 'c', 'cust_order': 'co', 'order_line': 'ol'}"
      ]
     },
     "execution_count": 428,
     "metadata": {},
     "output_type": "execute_result"
    }
   ],
   "source": [
    "aliases_dict"
   ]
  },
  {
   "cell_type": "code",
   "execution_count": 725,
   "id": "7a2ea00f-91de-49e2-bc80-602d011a47aa",
   "metadata": {},
   "outputs": [],
   "source": [
    "def GetQueryColumns(tables):\n",
    "    aliases_dict = GetAliases(sample_query)\n",
    "    columns = []\n",
    "    column_string = r'(^%s\\W\\w*)' % '\\W\\w*|^'.join(aliases_dict.values())\n",
    "    for i in tokens:\n",
    "        match = re.findall(column_string,i)\n",
    "        if len(match) > 0 :\n",
    "            columns.append(re.sub(r\"[\\['\\]]\", \"\", f\"{match}\"))\n",
    "    column_names = set(columns)\n",
    "\n",
    "    aliases = []\n",
    "    columns = []\n",
    "    for x in column_names:\n",
    "        aliases.append(x.split('.')[0])\n",
    "        columns.append(x.split('.')[1])\n",
    "\n",
    "    combined_dict = defaultdict(list)\n",
    "    for k, v in zip(aliases,columns):\n",
    "        combined_dict[k].append(v)\n",
    "        \n",
    "    return combined_dict"
   ]
  },
  {
   "cell_type": "code",
   "execution_count": 726,
   "id": "3c0f7604-fb52-4a2f-b6a1-76a4cd08af8f",
   "metadata": {},
   "outputs": [
    {
     "data": {
      "text/plain": [
       "defaultdict(list,\n",
       "            {'ol': ['price', 'order_id', 'book_id'],\n",
       "             'co': ['order_id', 'order_date'],\n",
       "             'c': ['calendar_dayname',\n",
       "              'calendar_month',\n",
       "              'calendar_date',\n",
       "              'calendar_year']})"
      ]
     },
     "execution_count": 726,
     "metadata": {},
     "output_type": "execute_result"
    }
   ],
   "source": [
    "combined_dict"
   ]
  },
  {
   "cell_type": "code",
   "execution_count": 758,
   "id": "3803e999-0b42-4045-97eb-97efad728cb4",
   "metadata": {},
   "outputs": [],
   "source": [
    "query2 = \"\"\"\n",
    "          SELECT ProductID, Name, SellStartDate FROM SalesLT.Product  \n",
    "          WHERE year(SellStartDate)='2005';\n",
    "         \"\"\""
   ]
  },
  {
   "cell_type": "code",
   "execution_count": 759,
   "id": "1a09686a-1938-456b-83d5-58ca7f9f5ffa",
   "metadata": {},
   "outputs": [],
   "source": [
    "def GetFilters(sql_string):\n",
    "    # remove the /* */ comments\n",
    "    q = re.sub(r\"/\\*[^*]*\\*+(?:[^*/][^*]*\\*+)*/\", \"\", sql_string)\n",
    "\n",
    "    # remove whole line -- and # comments\n",
    "    lines = [line for line in q.splitlines() if not re.match(\"^\\s*(--|#)\", line)]\n",
    "\n",
    "    # remove trailing -- and # comments\n",
    "    q = \" \".join([re.split(\"--|#\", line)[0] for line in lines])\n",
    "\n",
    "    # split on blanks, parens, semicolons, and commas\n",
    "    tokens = re.split(r\"[\\s)(;,]+\", q)\n",
    "    \n",
    "    # scan the tokens. if we see a FROM or JOIN, we set the get_next\n",
    "    # flag, and grab the next one (unless it's SELECT).\n",
    "    filters = re.findall(r'WHERE(.*);', sql_string)\n",
    "\n",
    "    return filters"
   ]
  },
  {
   "cell_type": "code",
   "execution_count": 760,
   "id": "5bccac23-3414-46e8-82ee-92caf41fd633",
   "metadata": {},
   "outputs": [
    {
     "data": {
      "text/plain": [
       "[\" year(SellStartDate)='2005'\"]"
      ]
     },
     "execution_count": 760,
     "metadata": {},
     "output_type": "execute_result"
    }
   ],
   "source": [
    "GetFilters(query2)"
   ]
  },
  {
   "cell_type": "code",
   "execution_count": null,
   "id": "3302456e-4dad-48b8-9b56-3797c354dbc6",
   "metadata": {},
   "outputs": [],
   "source": []
  }
 ],
 "metadata": {
  "kernelspec": {
   "display_name": "Python 3 (ipykernel)",
   "language": "python",
   "name": "python3"
  },
  "language_info": {
   "codemirror_mode": {
    "name": "ipython",
    "version": 3
   },
   "file_extension": ".py",
   "mimetype": "text/x-python",
   "name": "python",
   "nbconvert_exporter": "python",
   "pygments_lexer": "ipython3",
   "version": "3.9.15"
  }
 },
 "nbformat": 4,
 "nbformat_minor": 5
}
